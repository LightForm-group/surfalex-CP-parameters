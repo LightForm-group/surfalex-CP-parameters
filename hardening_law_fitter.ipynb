{
 "cells": [
  {
   "cell_type": "code",
   "execution_count": 1,
   "metadata": {},
   "outputs": [],
   "source": [
    "from pathlib import Path\n",
    "\n",
    "from tensile_test import TensileTest, HardeningLawFitter\n",
    "from tensile_test.utils import read_non_uniform_csv\n",
    "from damask_parse import read_table\n",
    "from plotly import graph_objects as go"
   ]
  },
  {
   "cell_type": "code",
   "execution_count": 2,
   "metadata": {},
   "outputs": [],
   "source": [
    "def read_tensile_test_data(path):\n",
    "    'Read tensile test data CSV into a list of dict.'\n",
    "\n",
    "    path = Path(path)\n",
    "    delimiter = ','\n",
    "\n",
    "    # Read data:\n",
    "    headers, arr = read_non_uniform_csv(\n",
    "        path, delimiter=delimiter, skip_rows=2, header_row=1)\n",
    "\n",
    "    # Get orientations for each stress/strain column pair:\n",
    "    with path.open() as handle:\n",
    "        ln = handle.readline()\n",
    "        oris = [int(i.split()[0]) for i in ln.split(delimiter)[::2]]\n",
    "\n",
    "    map_keys = {\n",
    "        'eng. strain': 'eng_strain',\n",
    "        'eng. stress /Mpa': 'eng_stress',\n",
    "    }\n",
    "    out = [\n",
    "        {\n",
    "            'orientation': ori,\n",
    "            map_keys[headers[ori_idx]]: arr[:, ori_idx],\n",
    "            map_keys[headers[ori_idx + 1]]: arr[:, ori_idx + 1],\n",
    "        }\n",
    "        for ori_idx, ori in enumerate(oris)\n",
    "    ]\n",
    "\n",
    "    return out"
   ]
  },
  {
   "cell_type": "code",
   "execution_count": 3,
   "metadata": {},
   "outputs": [],
   "source": [
    "# Load the experimental tensile test data\n",
    "data_path = Path('data/experimental/surfalex_tensile_test_data.csv')\n",
    "data = read_tensile_test_data(data_path)"
   ]
  },
  {
   "cell_type": "code",
   "execution_count": 4,
   "metadata": {},
   "outputs": [
    {
     "data": {
      "application/vnd.jupyter.widget-view+json": {
       "model_id": "06565e29ea4f43abbe27b902840a19af",
       "version_major": 2,
       "version_minor": 0
      },
      "text/plain": [
       "VBox(children=(HBox(children=(FigureWidget({\n",
       "    'data': [{'line': {'color': 'rgb(31, 119, 180)'},\n",
       "           …"
      ]
     },
     "metadata": {},
     "output_type": "display_data"
    }
   ],
   "source": [
    "# Get the stress strain data for the first orientation (zero degrees)\n",
    "ori_idx = 0 \n",
    "\n",
    "# Generate a fitting object to help with the fitting process and visualise the results:\n",
    "fitter = HardeningLawFitter(\n",
    "    exp_stress=data[ori_idx]['eng_stress'],\n",
    "    exp_strain=data[ori_idx]['eng_strain'],\n",
    "    trial_taylor_factor=2.5\n",
    ")\n",
    "\n",
    "# Visualise the fitting object:\n",
    "fitter.show()"
   ]
  },
  {
   "cell_type": "markdown",
   "metadata": {},
   "source": [
    "Set initial hardening parameters to:\n",
    "- $\\theta_0 = 400$\n",
    "- $\\tau_{\\textrm{sat}} = 95$"
   ]
  },
  {
   "cell_type": "markdown",
   "metadata": {},
   "source": [
    "## Add simulated tests to the `HardeningLawFitter`"
   ]
  },
  {
   "cell_type": "code",
   "execution_count": 5,
   "metadata": {},
   "outputs": [],
   "source": [
    "table_paths = [\n",
    "    Path('data/simulated/0/geom_load.txt'),\n",
    "    Path('data/simulated/1/geom_load.txt'),\n",
    "\n",
    "]\n",
    "table_data = [read_table(i) for i in table_paths]"
   ]
  },
  {
   "cell_type": "markdown",
   "metadata": {},
   "source": [
    "### Test 1\n",
    "\n",
    "- $\\theta_0 = 400$\n",
    "- $\\tau_{\\textrm{sat}} = 95$\n"
   ]
  },
  {
   "cell_type": "code",
   "execution_count": 6,
   "metadata": {},
   "outputs": [],
   "source": [
    "fitter.add_simulated_tensile_test(\n",
    "    true_stress=table_data[0]['Mises(Cauchy)'],\n",
    "    true_strain=table_data[0]['Mises(ln(V))']\n",
    ")"
   ]
  },
  {
   "cell_type": "markdown",
   "metadata": {},
   "source": [
    "### Test 2\n",
    "\n",
    "- $\\theta_0$ = 500\n",
    "- $\\tau_{\\textrm{sat}}$ = 140"
   ]
  },
  {
   "cell_type": "code",
   "execution_count": 7,
   "metadata": {},
   "outputs": [],
   "source": [
    "fitter.add_simulated_tensile_test(\n",
    "    true_stress=table_data[1]['Mises(Cauchy)'],\n",
    "    true_strain=table_data[1]['Mises(ln(V))']\n",
    ")"
   ]
  },
  {
   "cell_type": "markdown",
   "metadata": {},
   "source": [
    "## Plot simulated stress-strain curves on their own"
   ]
  },
  {
   "cell_type": "code",
   "execution_count": 8,
   "metadata": {},
   "outputs": [
    {
     "data": {
      "application/vnd.jupyter.widget-view+json": {
       "model_id": "fd1777fd907f450393cc8e9b90c012a6",
       "version_major": 2,
       "version_minor": 0
      },
      "text/plain": [
       "FigureWidget({\n",
       "    'data': [{'mode': 'lines+markers',\n",
       "              'text': array([  0.,   1.,   2., ..., 258.…"
      ]
     },
     "metadata": {},
     "output_type": "display_data"
    }
   ],
   "source": [
    "go.FigureWidget(\n",
    "    data=[\n",
    "        {\n",
    "            'x': i['Mises(ln(V))'],\n",
    "            'y': i['Mises(Cauchy)'],\n",
    "            'mode': 'lines+markers',\n",
    "            'text': i['inc'],\n",
    "        } for i in table_data\n",
    "    ]\n",
    ")"
   ]
  },
  {
   "cell_type": "code",
   "execution_count": null,
   "metadata": {},
   "outputs": [],
   "source": []
  }
 ],
 "metadata": {
  "hide_input": false,
  "kernelspec": {
   "display_name": "tensile_test_venv",
   "language": "python",
   "name": "tensile_test_venv"
  },
  "language_info": {
   "codemirror_mode": {
    "name": "ipython",
    "version": 3
   },
   "file_extension": ".py",
   "mimetype": "text/x-python",
   "name": "python",
   "nbconvert_exporter": "python",
   "pygments_lexer": "ipython3",
   "version": "3.7.2"
  },
  "toc": {
   "base_numbering": 1,
   "nav_menu": {},
   "number_sections": true,
   "sideBar": true,
   "skip_h1_title": false,
   "title_cell": "Table of Contents",
   "title_sidebar": "Contents",
   "toc_cell": false,
   "toc_position": {},
   "toc_section_display": true,
   "toc_window_display": false
  }
 },
 "nbformat": 4,
 "nbformat_minor": 2
}
